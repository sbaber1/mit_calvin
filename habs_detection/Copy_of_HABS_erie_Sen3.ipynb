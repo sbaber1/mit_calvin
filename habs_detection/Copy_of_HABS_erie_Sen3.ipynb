{
  "nbformat": 4,
  "nbformat_minor": 0,
  "metadata": {
    "colab": {
      "name": "Copy of HABS-erie-Sen3.ipynb",
      "provenance": [],
      "toc_visible": true
    },
    "kernelspec": {
      "name": "python3",
      "display_name": "Python 3"
    }
  },
  "cells": [
    {
      "cell_type": "markdown",
      "metadata": {
        "id": "ySkq0gvBrYAy"
      },
      "source": [
        "#Detecting Harmful Algal Blooms with perturbed calibration\n",
        "\n",
        "This notebook shows the workflow of the impact of calibration errors on harmful algal bloom detection using MODIS imagery. It uses the Google Earth Engine python API."
      ]
    },
    {
      "cell_type": "markdown",
      "metadata": {
        "id": "x1pgYFqhT-UI"
      },
      "source": [
        "Author: Sheila Baber (sbaber@mit.edu)\n",
        "\n",
        "Date: April 15, 2020"
      ]
    },
    {
      "cell_type": "code",
      "metadata": {
        "colab": {
          "base_uri": "https://localhost:8080/"
        },
        "id": "O34HsgN7rJ_R",
        "outputId": "81a2f045-d2df-400b-d954-d9233ea6ce8f"
      },
      "source": [
        "import ee\n",
        "import math\n",
        "import numpy as np\n",
        "import pandas as pd\n",
        "import matplotlib.pyplot as plt\n",
        "\n",
        "# Trigger the authentication flow.\n",
        "ee.Authenticate()\n",
        "\n",
        "# Initialize the library.\n",
        "ee.Initialize()\n",
        "\n"
      ],
      "execution_count": null,
      "outputs": [
        {
          "output_type": "stream",
          "text": [
            "To authorize access needed by Earth Engine, open the following URL in a web browser and follow the instructions. If the web browser does not start automatically, please manually browse the URL below.\n",
            "\n",
            "    https://accounts.google.com/o/oauth2/auth?client_id=517222506229-vsmmajv00ul0bs7p89v5m89qs8eb9359.apps.googleusercontent.com&scope=https%3A%2F%2Fwww.googleapis.com%2Fauth%2Fearthengine+https%3A%2F%2Fwww.googleapis.com%2Fauth%2Fdevstorage.full_control&redirect_uri=urn%3Aietf%3Awg%3Aoauth%3A2.0%3Aoob&response_type=code&code_challenge=hfQRoQKTQy3sABaXqTuvPO-FuKZ7US9uIdWtCILdhFw&code_challenge_method=S256\n",
            "\n",
            "The authorization workflow will generate a code, which you should paste in the box below. \n",
            "Enter verification code: 4/1AY0e-g6oymrsa61AJaCfQoV4wJ0uyL65gYvEdr4ISqkibAxd9vE5h8GdZ2E\n",
            "\n",
            "Successfully saved authorization token.\n"
          ],
          "name": "stdout"
        }
      ]
    },
    {
      "cell_type": "markdown",
      "metadata": {
        "id": "oE5T_p-OsDOa"
      },
      "source": [
        "##Visualizing the data\n",
        "\n",
        "(Sourced from Eric Magliarditi '20) "
      ]
    },
    {
      "cell_type": "code",
      "metadata": {
        "colab": {
          "base_uri": "https://localhost:8080/"
        },
        "id": "Tj7ElJpbsH2o",
        "outputId": "e0a5bf19-d741-4495-9a7d-94efef015f9f"
      },
      "source": [
        "#this is from Eric Magliarditi\n",
        "!pip install geopandas\n",
        "!pip install julian\n",
        "\n",
        "import numpy as np\n",
        "import torch\n",
        "import PIL\n",
        "import ee\n",
        "import folium\n",
        "from IPython.display import Image\n",
        "import pandas as pd\n",
        "import geopandas as gpd\n",
        "from datetime import datetime, timedelta\n",
        "from tqdm import trange\n",
        "import seaborn as sns\n",
        "import matplotlib.pyplot as plt\n",
        "import julian\n",
        "import plotly.express as px\n",
        "import plotly.graph_objects as go\n",
        "\n",
        "\n",
        "def add_ee_layer(self, ee_object, vis_params, name):\n",
        "\t\n",
        "\ttry:    \n",
        "\t\t# display ee.Image()\n",
        "\t\tif isinstance(ee_object, ee.image.Image):    \n",
        "\t\t\tmap_id_dict = ee.Image(ee_object).getMapId(vis_params)\n",
        "\t\t\tfolium.raster_layers.TileLayer(\n",
        "\t\t\ttiles = map_id_dict['tile_fetcher'].url_format,\n",
        "\t\t\tattr = 'Google Earth Engine',\n",
        "\t\t\tname = name,\n",
        "\t\t\toverlay = True,\n",
        "\t\t\tcontrol = True\n",
        "\t\t\t).add_to(self)\n",
        "\t\t# display ee.ImageCollection()\n",
        "\t\telif isinstance(ee_object, ee.imagecollection.ImageCollection):    \n",
        "\t\t\tee_object_new = ee_object.mosaic()\n",
        "\t\t\tmap_id_dict = ee.Image(ee_object_new).getMapId(vis_params)\n",
        "\t\t\tfolium.raster_layers.TileLayer(\n",
        "\t\t\ttiles = map_id_dict['tile_fetcher'].url_format,\n",
        "\t\t\tattr = 'Google Earth Engine',\n",
        "\t\t\tname = name,\n",
        "\t\t\toverlay = True,\n",
        "\t\t\tcontrol = True\n",
        "\t\t\t).add_to(self)\n",
        "\t\t# display ee.Geometry()\n",
        "\t\telif isinstance(ee_object, ee.geometry.Geometry):    \n",
        "\t\t\tfolium.GeoJson(\n",
        "\t\t\tdata = ee_object.getInfo(),\n",
        "\t\t\tname = name,\n",
        "\t\t\toverlay = True,\n",
        "\t\t\tcontrol = True\n",
        "\t\t).add_to(self)\n",
        "\t\t# display ee.FeatureCollection()\n",
        "\t\telif isinstance(ee_object, ee.featurecollection.FeatureCollection):  \n",
        "\t\t\tee_object_new = ee.Image().paint(ee_object, 0, 2)\n",
        "\t\t\tmap_id_dict = ee.Image(ee_object_new).getMapId(vis_params)\n",
        "\t\t\tfolium.raster_layers.TileLayer(\n",
        "\t\t\ttiles = map_id_dict['tile_fetcher'].url_format,\n",
        "\t\t\tattr = 'Google Earth Engine',\n",
        "\t\t\tname = name,\n",
        "\t\t\toverlay = True,\n",
        "\t\t\tcontrol = True\n",
        "\t\t).add_to(self)\n",
        "\t\n",
        "\texcept:\n",
        "\t\tprint(\"Could not display {}\".format(name))\n",
        "\n",
        "folium.Map.add_ee_layer = add_ee_layer\n",
        "\n",
        "def generate_map(data_dict, air_quality_measure='Nitrogen_Dioxide', city_coordinates=[40.78,-73.9],\n",
        "\t\t\t\t early_date='2019-04-01', later_date='2019-04-15',\n",
        "\t\t\t\t opacity=0.4, zoom=8):\n",
        "\t'''\n",
        "\tCreates a visual heat map of corresponding gas - From Sentinel5\n",
        "\t\n",
        "\t..param air_quality_measure: Air Quality metric of analysis\n",
        "\t\t..must be one of the following: (Nitrogen_Dioxide,UV_Aersol,\n",
        "\t\t\tCarbon_Monoxide, Formaldehyde, Ozone, Sulphur_Dioxide, Methane)\n",
        "\t..paramtype air_quality_measure: str\n",
        "\t\n",
        "\t..param city_coordinates: Location of center of map (lat, long)\n",
        "\t..paramtype city_coordinates: list\n",
        "\t\n",
        "\t..param early_date: Beginning date of analysis\n",
        "\t..paramtype early_date: str YYYY-MM-DD\n",
        "\t\n",
        "\t..param later_date: End date of analysis\n",
        "\t..paramtype later_date: str YYYY-MM-DD\n",
        "\t\n",
        "\t..param zoom: Amount to zoom into the map\n",
        "\t..paramtype zoom: int\n",
        "\t\n",
        "\t..return my_map: Folium Map containing the layers\n",
        "\t..rtype: Folium Map\n",
        "\t'''\n",
        "\t\n",
        "\tif air_quality_measure not in [\"Nitrogen_Dioxide\",\"UV_Aersol\",\n",
        "\t\t\t\"Carbon_Monoxide\", \"Formaldehyde\", \"Ozone\", \"Sulphur_Dioxide\", \"Methane\"]:\n",
        "\t\traise ValueError(\"Air Quality Measurement is incorrect \\n\" + \\\n",
        "\t\t\t\t\t\t\"Please use the following: \" + \\\n",
        "\t\t\t\t\t\t \"Nitrogen_Dioxide,UV_Aersol, Carbon_Monoxide, Formaldehyde, Ozone, Sulphur_Dioxide, Methane\"\n",
        "\t\t\t\t\t\t)\n",
        "\t\t\n",
        "\tair_quality_dict = data_dict[air_quality_measure]\n",
        "\tsentinel_data = ee.ImageCollection(air_quality_dict.get('dataset')).select(air_quality_dict.get(\"select\"))\n",
        "\tsentinel_data = sentinel_data.filterDate(early_date, later_date)\n",
        "\t\n",
        "\tvis_params = {\n",
        "\t  'min': air_quality_dict.get('min'),\n",
        "\t  'max': air_quality_dict.get('max'),\n",
        "\t  'palette': air_quality_dict.get(\"palette\"),\n",
        "\t  'opacity': opacity\n",
        "\t}\n",
        "\n",
        "\tmy_map = folium.Map(location=city_coordinates, zoom_start=zoom, height=400)\n",
        "\tmy_map.add_ee_layer(sentinel_data.mean(), vis_params, 'S5P N02')\n",
        "\tmy_map.add_child(folium.LayerControl())\n",
        "\t\n",
        "\treturn my_map\n",
        "\n",
        "def create_data_table(region_geom, dataset):\n",
        "\t'''\n",
        "\tCreates data table for single region\n",
        "\t'''\n",
        "\t\n",
        "\tsize = dataset.size().getInfo()\n",
        "\tjan_1_1950 = datetime(1950,1,1)\n",
        "\tdf = pd.DataFrame()\n",
        "\t\n",
        "\tfor i in trange(size):\n",
        "\t\timage = images.get(i)\n",
        "\t\timage_info = image.getInfo()\n",
        "\t\timage_id = image_info.get(\"id\")\n",
        "\t\tdays_since_jan_1_1950 = image_info.get('properties').get(\"TIME_REFERENCE_DAYS_SINCE_1950\")\n",
        "\t\tdate = jan_1_1950 + timedelta(days=days_since_jan_1_1950)\n",
        "\t\t\n",
        "\t\tee_image = ee.Image(image_id)\n",
        "\t\t\n",
        "\t\tmean_dict = ee_image.reduceRegion(\n",
        "\t\t\treducer=ee.Reducer.mean(),\n",
        "\t\t\tgeometry=region_geom,\n",
        "\t\t\tscale=100)\n",
        "\t\t\n",
        "\t\tresult = mean_dict.getInfo()\n",
        "\t\tif result['NO2_column_number_density']:\n",
        "\t\t\tresult['Date Acquired'] = date.strftime(\"%m/%d/%Y\")\n",
        "\t\t\tresult['Image ID'] = image_id\n",
        "\t\t\tdf = df.append(result,ignore_index=True)\n",
        "\t\n",
        "\treturn df\n",
        "\n",
        "def create_data_table_multi_region(feature_collection, dataset, stat):\n",
        "\t'''\n",
        "\tCreates data table for multiple regions\n",
        "\t'''\n",
        "\t\n",
        "\tsize = dataset.size().getInfo()\n",
        "\timages = dataset.toList(dataset.size())\n",
        "\tjan_1_1950 = datetime(1950,1,1)\n",
        "\tdf = pd.DataFrame()\n",
        "\tprint(size)\n",
        "\tfor i in range(size):\n",
        "\t\timage = images.get(i)\n",
        "\t\timage_info = image.getInfo()\n",
        "\t\timage_id = image_info.get(\"id\")\n",
        "\t\tproperties_all = image_info.get('properties')\n",
        "\t\tdays_since_jan_1_1950 = properties_all.get(\"TIME_REFERENCE_DAYS_SINCE_1950\")\n",
        "\t\tdate = jan_1_1950 + timedelta(days=days_since_jan_1_1950)\n",
        "\t\tjulian_date = properties_all.get(\"TIME_REFERENCE_JULIAN_DAY\")\n",
        "\t\tdt = julian.from_jd(julian_date, fmt='jd')\n",
        "\t\tsystem_start = properties_all.get(\"system:time_start\")\n",
        "\t\t\n",
        "\t\tee_image = ee.Image(image_id)\n",
        "\t\t\n",
        "\t\tmean_dict = ee_image.reduceRegions(\n",
        "\t\t\treducer=ee.Reducer.mean(),\n",
        "\t\t\tcollection=feature_collection,\n",
        "\t\t\tscale=100)\n",
        "\t\t\n",
        "\t\tresult = mean_dict.getInfo()\n",
        "\t\t\n",
        "\t\tfor feature in result.get('features'):\n",
        "\t\t\tproperties = feature.get('properties')\n",
        "\t\t\tif properties.get(stat):\n",
        "\t\t\t\tproperties['Date Acquired'] = date #date.strftime(\"%m/%d/%Y\")\n",
        "\t\t\t\tproperties['Image ID'] = image_id\n",
        "\t\t\t\tproperties['Julian Date'] = dt\n",
        "\t\t\t\tproperties['System_Start'] = system_start\n",
        "\t\t\t\tdf = df.append(properties, ignore_index=True)\n",
        "\t\t\t\n",
        "\treturn df\n",
        "\n",
        "def create_time_df(df):\n",
        "\tunique_dates = df['Date'].unique()\n",
        "\tareas = df['name'].unique()\n",
        "\tnew_df = pd.DataFrame()\n",
        "\tids = []\n",
        "\tfor area in areas:\n",
        "\t\tfor date in unique_dates:\n",
        "\t\t\tunique_ids = df[(df['Date'] == date) & (df['name'] == area)]['Unique_ID'].to_numpy()\n",
        "\t\t\t\n",
        "\t\t\thour = 0\n",
        "\t\t\t\n",
        "\t\t\tfor i in range(len(unique_ids)):\n",
        "\t\t\t\tunique_id = unique_ids[i]\n",
        "\t\t\t\told_date = date\n",
        "\t\t\t\tnew_date = old_date + np.timedelta64(hour, 'h')\n",
        "\t\t\t\thour += 3\n",
        "\t\t\t\tnew_df = new_df.append({'Unique_ID': unique_id, 'New Date': new_date},ignore_index=True)\n",
        "\treturn new_df\n",
        "\t\t\n",
        "\n",
        "\n"
      ],
      "execution_count": null,
      "outputs": [
        {
          "output_type": "stream",
          "text": [
            "Collecting geopandas\n",
            "\u001b[?25l  Downloading https://files.pythonhosted.org/packages/d7/bf/e9cefb69d39155d122b6ddca53893b61535fa6ffdad70bf5ef708977f53f/geopandas-0.9.0-py2.py3-none-any.whl (994kB)\n",
            "\u001b[K     |████████████████████████████████| 1.0MB 5.7MB/s \n",
            "\u001b[?25hCollecting pyproj>=2.2.0\n",
            "\u001b[?25l  Downloading https://files.pythonhosted.org/packages/b1/72/d52e9ca81caef056062d71991b0e9b1d16af042245627c5d0e4916a36c4f/pyproj-3.0.1-cp37-cp37m-manylinux2010_x86_64.whl (6.5MB)\n",
            "\u001b[K     |████████████████████████████████| 6.5MB 22.6MB/s \n",
            "\u001b[?25hCollecting fiona>=1.8\n",
            "\u001b[?25l  Downloading https://files.pythonhosted.org/packages/47/c2/67d1d0acbaaee3b03e5e22e3b96c33219cb5dd392531c9ff9cee7c2eb3e4/Fiona-1.8.18-cp37-cp37m-manylinux1_x86_64.whl (14.8MB)\n",
            "\u001b[K     |████████████████████████████████| 14.8MB 238kB/s \n",
            "\u001b[?25hRequirement already satisfied: shapely>=1.6 in /usr/local/lib/python3.7/dist-packages (from geopandas) (1.7.1)\n",
            "Requirement already satisfied: pandas>=0.24.0 in /usr/local/lib/python3.7/dist-packages (from geopandas) (1.1.5)\n",
            "Requirement already satisfied: certifi in /usr/local/lib/python3.7/dist-packages (from pyproj>=2.2.0->geopandas) (2020.12.5)\n",
            "Collecting click-plugins>=1.0\n",
            "  Downloading https://files.pythonhosted.org/packages/e9/da/824b92d9942f4e472702488857914bdd50f73021efea15b4cad9aca8ecef/click_plugins-1.1.1-py2.py3-none-any.whl\n",
            "Requirement already satisfied: six>=1.7 in /usr/local/lib/python3.7/dist-packages (from fiona>=1.8->geopandas) (1.15.0)\n",
            "Collecting cligj>=0.5\n",
            "  Downloading https://files.pythonhosted.org/packages/42/1e/947eadf10d6804bf276eb8a038bd5307996dceaaa41cfd21b7a15ec62f5d/cligj-0.7.1-py3-none-any.whl\n",
            "Requirement already satisfied: click<8,>=4.0 in /usr/local/lib/python3.7/dist-packages (from fiona>=1.8->geopandas) (7.1.2)\n",
            "Requirement already satisfied: attrs>=17 in /usr/local/lib/python3.7/dist-packages (from fiona>=1.8->geopandas) (20.3.0)\n",
            "Collecting munch\n",
            "  Downloading https://files.pythonhosted.org/packages/cc/ab/85d8da5c9a45e072301beb37ad7f833cd344e04c817d97e0cc75681d248f/munch-2.5.0-py2.py3-none-any.whl\n",
            "Requirement already satisfied: python-dateutil>=2.7.3 in /usr/local/lib/python3.7/dist-packages (from pandas>=0.24.0->geopandas) (2.8.1)\n",
            "Requirement already satisfied: pytz>=2017.2 in /usr/local/lib/python3.7/dist-packages (from pandas>=0.24.0->geopandas) (2018.9)\n",
            "Requirement already satisfied: numpy>=1.15.4 in /usr/local/lib/python3.7/dist-packages (from pandas>=0.24.0->geopandas) (1.19.5)\n",
            "Installing collected packages: pyproj, click-plugins, cligj, munch, fiona, geopandas\n",
            "Successfully installed click-plugins-1.1.1 cligj-0.7.1 fiona-1.8.18 geopandas-0.9.0 munch-2.5.0 pyproj-3.0.1\n",
            "Collecting julian\n",
            "  Downloading https://files.pythonhosted.org/packages/e4/40/3454dc78fea47fb634eb82f28473bab7ca376f4c68cd6e889edf67d10b51/julian-0.14.zip\n",
            "Building wheels for collected packages: julian\n",
            "  Building wheel for julian (setup.py) ... \u001b[?25l\u001b[?25hdone\n",
            "  Created wheel for julian: filename=julian-0.14-cp37-none-any.whl size=2636 sha256=8d66376e62ffc62a834817e048ef9e7a6a57fcb8f2da965188a84bc6f6ad871b\n",
            "  Stored in directory: /root/.cache/pip/wheels/ce/b7/8a/aa742c5ae0a627cc1a665f14550988c012f8c38fc15c2f80b9\n",
            "Successfully built julian\n",
            "Installing collected packages: julian\n",
            "Successfully installed julian-0.14\n"
          ],
          "name": "stdout"
        }
      ]
    },
    {
      "cell_type": "markdown",
      "metadata": {
        "id": "RYuPp-_ssZaN"
      },
      "source": [
        "##Water mask\n",
        "\n",
        "We are really only concerned with water bodies—so we take a water mask from MODIS. "
      ]
    },
    {
      "cell_type": "code",
      "metadata": {
        "id": "O8oFRoAgsNZn"
      },
      "source": [
        "def waterMask(img):\n",
        "  waterMask = ee.ImageCollection(\"MODIS/006/MOD44W\").select('water_mask').median().eq(1)\n",
        "  return img.updateMask(waterMask)\n"
      ],
      "execution_count": null,
      "outputs": []
    },
    {
      "cell_type": "markdown",
      "metadata": {
        "id": "Bm-cDgF_rw3b"
      },
      "source": [
        "##Input data\n",
        "\n",
        "- MODIS ocean color imagery\n",
        "\n",
        "Note that this is not a raw form—it is the [Ocean Color SMI: Standard Mapped Image MODIS Aqua Data](https://developers.google.com/earth-engine/datasets/catalog/NASA_OCEANDATA_MODIS-Aqua_L3SMI)\n",
        "\n",
        "It has the Remote Sensing Reflectance at the bands relevant to HABs detection.\n"
      ]
    },
    {
      "cell_type": "code",
      "metadata": {
        "colab": {
          "base_uri": "https://localhost:8080/"
        },
        "id": "ksu4Mh0lrzW6",
        "outputId": "2c82a35a-48e8-4e94-8217-d7c06c39e457"
      },
      "source": [
        "#NASA/OCEANDATA/MODIS-Aqua/L3SMI: 500 m resolution chlor_a dataset with Rrs\n",
        "\n",
        "smi_color = ee.ImageCollection('NASA/OCEANDATA/MODIS-Aqua/L3SMI')\\\n",
        "                    .filterDate('2014-07-01', '2014-09-30')\n",
        "remoteSensingReflectance = smi_color.select(['Rrs_645', 'Rrs_555', 'Rrs_443']) # only for visualization purposes\n",
        "\n",
        "\n",
        "range = remoteSensingReflectance.reduceColumns(ee.Reducer.minMax(), [\"system:time_start\"])\n",
        "\n",
        "\n",
        "date_range = [ee.Date(range.get('min')).format('YYYY-MM-dd').getInfo(), ee.Date(range.get('max')).format('YYYY-MM-dd').getInfo()]\n",
        "print(date_range)"
      ],
      "execution_count": null,
      "outputs": [
        {
          "output_type": "stream",
          "text": [
            "['2014-07-01', '2014-09-29']\n"
          ],
          "name": "stdout"
        }
      ]
    },
    {
      "cell_type": "markdown",
      "metadata": {
        "id": "KRce_y-TtOgv"
      },
      "source": [
        "##Band Perturbation\n",
        "\n",
        "In this case we choose a band to perturb and perform that perturbation. \n",
        "\n",
        "Note that the bands on the SMI are the following:\n",
        "\n",
        "\n",
        "\n",
        "| Name  | Units  |Description|\n",
        "|---|---|---|\n",
        "|  `chlor_a` | mg m-3  |  Chlorophyll a concentration| \n",
        "|  nflh | mW cm-2 µm-1 sr-1  | Normalized fluorescence line height| \n",
        "|  poc |  mg m-3 |  Particulate organic carbon |\n",
        "|  Rrs_412 |  mg m-3 | Remote sensing reflectance at band 412nm  |\n",
        "|  Rrs_443 | sr-1  |  Remote sensing reflectance at band 443nm | \n",
        "|  Rrs_469 |  sr-1 |  Remote sensing reflectance at band 469 nm | \n",
        "|  Rrs_488 |  sr-1 |  Remote sensing reflectance at band 488 nm | \n",
        "|  Rrs_531 |  sr-1 |  Remote sensing reflectance at band 531 nm | \n",
        "|  Rrs_547 |  sr-1 | Remote sensing reflectance at band 547 nm  |  \n",
        "|  Rrs_555 |  sr-1 |  Remote sensing reflectance at band 555 nm | \n",
        "|  Rrs_645 |  sr-1 | Remote sensing reflectance at band 645 nm  | \n",
        "|  Rrs_667 |  sr-1 |  Remote sensing reflectance at band 667 nm | \n",
        "|  Rrs_678 |  sr-1 |  Remote sensing reflectance at band 678 nm | \n",
        "|  sst | sr-1  | Sea surface temperature |\n",
        "\n",
        "\n",
        "---\n",
        "For this particular case, we are using the following bands:\n",
        "\n",
        "    //'blue':image.select('Rrs_469') , --> perturb_array[5]\n",
        "    //'green':image.select('Rrs_547'),--> perturb_array[8]\n"
      ]
    },
    {
      "cell_type": "code",
      "metadata": {
        "id": "zy8gQ4qjte0h"
      },
      "source": [
        "import numpy as np\n",
        "#to systematically build trial matrices\n",
        "def oneband_mat(bandname, perc_abs_range, perc_increment):\n",
        "  '''\n",
        "  input: bandname, the band to perturb, a string\n",
        "  abs_range: float, the limits to perturb, ex: |2%| = 2.0\n",
        "  increment: float, steps to perturb the bands by (ex: 0.1% = 0.1)\n",
        "  output: an ee.Array that can be fed into perturbations hopefully\n",
        "  '''\n",
        "  abs_range = perc_abs_range/ 100\n",
        "  increment = perc_increment / 100 \n",
        "  if '412' in bandname:\n",
        "    col_index = 0\n",
        "  elif '443' in bandname:\n",
        "    col_index = 1 \n",
        "  elif '469' in bandname:\n",
        "    col_index = 2\n",
        "  elif '488' in bandname:\n",
        "    col_index = 3 \n",
        "  elif '531' in bandname:\n",
        "    col_index = 4\n",
        "  elif '547' in bandname:\n",
        "    col_index = 5   \n",
        "  elif '555' in bandname:\n",
        "    col_index = 6\n",
        "  elif '645' in bandname:\n",
        "    col_index = 7 \n",
        "  elif '667' in bandname:\n",
        "    col_index = 8 \n",
        "  elif '678' in bandname:\n",
        "    col_index = 9 \n",
        "  else:\n",
        "    return 'Please choose a wavelength'\n",
        "  \n",
        "  start = float(1 - abs_range)\n",
        "  end = float(1 + abs_range)\n",
        "\n",
        "  mat = np.array([1.0, 1.0, 1.0, 1.0, 1.0, 1.0, 1.0, 1.0, 1.0, 1.0])\n",
        "  mat[col_index] = start\n",
        "  start += increment\n",
        "  while start < end:\n",
        "    new_row = np.array([1.0, 1.0, 1.0, 1.0, 1.0, 1.0, 1.0, 1.0, 1.0, 1.0])\n",
        "    new_row[col_index] = float(start)\n",
        "    start += increment \n",
        "    mat = np.vstack((mat, new_row))\n",
        "    #mat1 = ee.Array(mat.tolist())\n",
        "  return mat.tolist()\n"
      ],
      "execution_count": null,
      "outputs": []
    },
    {
      "cell_type": "code",
      "metadata": {
        "id": "k5H_KZMbx3j_"
      },
      "source": [
        "#The bands\n",
        "\n",
        "#In this case, it would be:\n",
        "\n",
        "#'blue':image.select('Rrs_469') , --> perturb_array[2]\n",
        "#'green':image.select('Rrs_547'),--> perturb_array[5]\n",
        "\n",
        "\n",
        "#perturb_array_plus = ee.List([1.0, 1.0, 1.0, 1.0, 1.0, 1.0, 1.0, 1.0, 1.01, 1.0])\n",
        "#perturb_array_minus = ee.List([1.0, 1.0, 1.0, 1.0, 1.0, 1.0, 1.0, 1.0, 0.99, 1.0])\n",
        "\n",
        "\n",
        "def perturb_func(image, perturb_array):\n",
        "    bands = ee.List(['Rrs_412', 'Rrs_443','Rrs_469', 'Rrs_488','Rrs_531','Rrs_547','Rrs_555', 'Rrs_645','Rrs_667','Rrs_678'])# 10 bands\n",
        "    image = ee.Image(image)\n",
        "    perturb_array = ee.List(perturb_array)\n",
        "    #print(\"what is being fed here\", image);\n",
        "    \n",
        "    #b_c = image.select('chlor_a').multiply(ee.Number(perturb_array.get(0)));\n",
        "    #b_n = image.select('nflh').multiply(ee.Number(perturb_array.get(1)));\n",
        "    #b_p = image.select('poc').multiply(ee.Number(perturb_array.get(2)));\n",
        "    b_412 = image.select('Rrs_412').multiply(ee.Number(perturb_array.get(0)));\n",
        "    b_443 = image.select('Rrs_443').multiply(ee.Number(perturb_array.get(1)));\n",
        "    b_469 = image.select('Rrs_469').multiply(ee.Number(perturb_array.get(2)));\n",
        "    b_488 = image.select('Rrs_488').multiply(ee.Number(perturb_array.get(3)));\n",
        "    b_531 = image.select('Rrs_531').multiply(ee.Number(perturb_array.get(4))); \n",
        "    b_547 = image.select('Rrs_547').multiply(ee.Number(perturb_array.get(5)));\n",
        "    b_555 = image.select('Rrs_555').multiply(ee.Number(perturb_array.get(6)));\n",
        "    b_645 = image.select('Rrs_645').multiply(ee.Number(perturb_array.get(7)));\n",
        "    b_667 = image.select('Rrs_667').multiply(ee.Number(perturb_array.get(8)));\n",
        "    b_678 = image.select('Rrs_678').multiply(ee.Number(perturb_array.get(9)));\n",
        "    #b_sst = image.select('sst').multiply(ee.Number(perturb_array.get(13)));\n",
        "    multiplied = [b_412, b_443, b_469, b_488, b_531, b_547, b_555, b_645, b_667, b_678]\n",
        "    #print(\"mult list\", multiplied);\n",
        "    output = ee.Image.cat(multiplied);\n",
        "    return output\n"
      ],
      "execution_count": null,
      "outputs": []
    },
    {
      "cell_type": "markdown",
      "metadata": {
        "id": "N7Jp6cnz1al8"
      },
      "source": [
        "##Chlrophyll-a algorithm\n",
        "\n",
        "This is a specific algorithm, needs to be adapted for freshwter settings"
      ]
    },
    {
      "cell_type": "code",
      "metadata": {
        "id": "k65Dnm611imX"
      },
      "source": [
        "\n",
        "def chlora_rrs(image):\n",
        "  \n",
        "  chlora = image.expression(\\\n",
        "    '10 ** (a_0 + a_1 * log10(blue / green) **1  + a_2 * log10(blue / green) **2 + a_3 * log10(blue / green) **3 + a_4 * log10(blue / green) **4) ',\\\n",
        "    {\\\n",
        "    'blue':image.select('Rrs_469'),\\\n",
        "    'green':image.select('Rrs_547'),\\\n",
        "    'a_0' : 0.2424,\\\n",
        "    'a_1' : -2.7423,\\\n",
        "    'a_2' : 1.8017,\\\n",
        "    'a_3' : 0.0015,\\\n",
        "    'a_4' : -1.2280,\\\n",
        "    }).rename('chlora')\n",
        "  return image.addBands(chlora)"
      ],
      "execution_count": null,
      "outputs": []
    },
    {
      "cell_type": "markdown",
      "metadata": {
        "id": "cGEqUMHj13sB"
      },
      "source": [
        "##Apply to data and visualize"
      ]
    },
    {
      "cell_type": "code",
      "metadata": {
        "id": "r3ZriLCi2E-Z"
      },
      "source": [
        "#////////////\n",
        "#/// APPLYING THE OCEAN COLOR ALGORITHMS \n",
        "#///////////\n",
        "  \n",
        "median = smi_color.median(); #this is only a single image \n",
        "\n",
        "#Unperturbed\n",
        "unperturbed_smi = ee.Image(median);\n",
        "unperturbed_chlora = chlora_rrs(unperturbed_smi).select('chlora');\n",
        "\n",
        "\n",
        "#'blue':image.select('Rrs_469') , --> perturb_array[5]\n",
        "#'green':image.select('Rrs_547'),--> perturb_array[8]\n",
        "\n",
        "#Perturbed\n",
        "perturb_array_plus = ee.List([1.0, 1.0, 1.01, 1.0, 1.0, 1.0, 1.0, 1.0, 1.00, 1.0])\n",
        "perturb_array_minus = ee.List([1.0, 1.0, 0.99, 1.0, 1.0, 1.0, 1.0, 1.0, 1.00, 1.0])\n",
        "\n",
        "perturbed_smi_plus = perturb_func(median, perturb_array_plus);\n",
        "perturbed_smi_minus = perturb_func(median, perturb_array_minus);\n",
        "\n",
        "perturbed_chlora_plus = chlora_rrs(perturbed_smi_plus).select('chlora');\n",
        "perturbed_chlora_minus = chlora_rrs(perturbed_smi_minus).select('chlora');\n",
        "  \n",
        "#Difference\n",
        "difference_chlora_plus = perturbed_chlora_plus.subtract(unperturbed_chlora);\n",
        "difference_chlora_minus = perturbed_chlora_minus.subtract(unperturbed_chlora);\n"
      ],
      "execution_count": null,
      "outputs": []
    },
    {
      "cell_type": "code",
      "metadata": {
        "colab": {
          "base_uri": "https://localhost:8080/",
          "height": 504
        },
        "id": "Fe3iPtNh32ze",
        "outputId": "d7003e6c-7047-49d9-ad2e-662a98d3fc93"
      },
      "source": [
        "#Visualize\n",
        "\n",
        "\n",
        "#region\n",
        "roi_erie = ee.Geometry.Polygon(coords = [[-83.69240891306183,41.2065268266489], [-81.74233567087433,41.2065268266489], [-81.74233567087433,42.288456326789365], [-83.69240891306183,42.288456326789365], [-83.69240891306183,41.2065268266489]])\n",
        "\n",
        "\n",
        "# Add EE drawing method to folium.\n",
        "folium.Map.add_ee_layer = add_ee_layer\n",
        "\n",
        "# Set visualization parameters.\n",
        "\n",
        "# Create a folium map object.\n",
        "Map = folium.Map(location=[45.5236, -122.6750], zoom_start=3, height=500)\n",
        "\n",
        "\n",
        "\n",
        "palette = ['0000FF', '00FF00']\n",
        "#vis = {min: -1, max:20 , palette: ['0000FF', '00FF00']};\n",
        "vis =  {'min': -1, 'max' : 20, 'palette' : palette}\n",
        "Map.add_ee_layer(unperturbed_chlora, vis, 'unperturbed');\n",
        "Map.add_ee_layer(perturbed_chlora_plus, vis, 'perturbed_plus');\n",
        "Map.add_ee_layer(perturbed_chlora_minus, vis, 'perturbed_minus');\n",
        "\n",
        "\n",
        "Map.add_ee_layer(difference_chlora_plus, vis, 'difference_plus');\n",
        "Map.add_ee_layer(difference_chlora_minus, vis, 'difference_minus');\n",
        "Map.add_ee_layer(roi_erie, {}, 'ROI Erie');\n",
        "\n",
        "\n",
        "#print(perturbed_chlora.getInfo())\n",
        "\n",
        "\n",
        "max_chlora = perturbed_chlora_plus.reduceRegion(**{\n",
        "      'reducer': ee.Reducer.max(),\n",
        "      'geometry': roi_erie,\n",
        "      'scale': 1000\n",
        "      }).getInfo()['chlora']\n",
        "print(max_chlora)\n",
        "\n",
        "#print(max_chlor)\n",
        "# Add a legend\n",
        "\n",
        "import branca\n",
        "\n",
        "colormap = branca.colormap.LinearColormap(['b', 'g'], index=None, vmin=0.0, vmax= max_chlora, caption='try')\n",
        "#colormap = colormap.to_step(index=[0, 1000, 3000, 5000, 8500])\n",
        "colormap.caption = 'Chlorophyll-a counts [mg m ** -3]'\n",
        "colormap.add_to(Map)\n",
        "\n",
        "\n",
        "\n",
        "\n",
        "Map.add_child(folium.LayerControl())\n",
        "\n",
        "\n",
        "# Display the map.\n",
        "display(Map)"
      ],
      "execution_count": null,
      "outputs": [
        {
          "output_type": "stream",
          "text": [
            "72.94056409366686\n"
          ],
          "name": "stdout"
        },
        {
          "output_type": "display_data",
          "data": {
            "text/html": [
              "<div style=\"width:100%;\"><div style=\"position:relative;width:100%;height:0;padding-bottom:60%;\"><span style=\"color:#565656\">Make this Notebook Trusted to load map: File -> Trust Notebook</span><iframe src=\"about:blank\" style=\"position:absolute;width:100%;height:100%;left:0;top:0;border:none !important;\" data-html=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 onload=\"this.contentDocument.open();this.contentDocument.write(atob(this.getAttribute('data-html')));this.contentDocument.close();\" allowfullscreen webkitallowfullscreen mozallowfullscreen></iframe></div></div>"
            ],
            "text/plain": [
              "<folium.folium.Map at 0x7f4fceafa198>"
            ]
          },
          "metadata": {
            "tags": []
          }
        }
      ]
    },
    {
      "cell_type": "markdown",
      "metadata": {
        "id": "laF4WiZ415Z3"
      },
      "source": [
        "##Image statistics"
      ]
    },
    {
      "cell_type": "code",
      "metadata": {
        "colab": {
          "base_uri": "https://localhost:8080/",
          "height": 715
        },
        "id": "xtdQi0E840A3",
        "outputId": "92f08226-c538-4ac1-9e92-7dd82bf50a3f"
      },
      "source": [
        "\n",
        "def IndexHisto(img, img_plus, img_minus):\n",
        "  '''\n",
        "  indexname should be a string with quotations ex: 'NDVI'\n",
        "  '''\n",
        "  \n",
        "  # This function maps spectral indices using Landsat 8 Imagery//TODO: POTENTIALLY ADD MORE\n",
        "  \n",
        "  def indicise(image):\n",
        "    selected = image.select('chlora')\n",
        "    print(selected.getInfo())\n",
        "    #projection = image.projection().nominalScale()\n",
        "    #print('projection', projection.getInfo())\n",
        "    #a = np.array(selected.reduceRegion(ee.Reducer.fixedHistogram(0, 1.0, 5), roi_erie, 40).get('chlora').getInfo())\n",
        "    \n",
        "    a = np.array(selected.reduceRegion(**{\n",
        "        'reducer': ee.Reducer.fixedHistogram(**{\n",
        "            'min': 0,\n",
        "            'max': max_chlora,\n",
        "            'steps': 5,\n",
        "            }),\n",
        "            'geometry': roi_erie,\n",
        "            'scale': 1000, #image.projection().nominalScale(),\n",
        "            'maxPixels': 1e8\n",
        "            }).get('chlora').getInfo())\n",
        "    print(a)\n",
        "    x = a[:, 0]\n",
        "    y = a[:, 1] / np.sum(a[:, 1])\n",
        "    return x, y\n",
        "    #gcvi = np.array(indicised.select('GCVI').getInfo())\n",
        "  \n",
        "  unperturbed = indicise(img)\n",
        "  plus = indicise(img_plus)\n",
        "  minus = indicise(img_minus)\n",
        "\n",
        "  legend_size = 10\n",
        "  fig = plt.figure()\n",
        "  plt.grid()\n",
        "  ax = fig.add_axes([0,0,1,1])\n",
        "\n",
        "  wdth = 1\n",
        "\n",
        "  plt.grid()\n",
        "  plt.bar(minus[0] - wdth, minus[1], width = wdth, color = '#077d36', alpha = 1, label = \"decreased gain (-1%)\")\n",
        "  plt.bar(unperturbed[0], unperturbed[1], width = wdth, color = '#00FF00', alpha = 1, label = \"original gain\")\n",
        "  plt.bar(plus[0] + wdth , plus[1], width = wdth, color = '#05a3ff', alpha = 1, label = \"increased gain (+1%)\")\n",
        "\n",
        "  plt.xticks(unperturbed[0])\n",
        "\n",
        "  plt.title(\"Median Chlorophyll-a Counts [mg  $m^{-3}$] \\n in Western Lake Erie \" + date_range[0]+\"—\"+date_range[1])\n",
        "  plt.xlabel('Chlorophyll-a [mg $m ^{-3}$]')\n",
        "  plt.ylabel('Normalized counts')\n",
        "\n",
        "  plt.legend(loc='best', fancybox=True, fontsize = legend_size)\n",
        "\n",
        "  plt.show()\n",
        "  #fig, axs = plt.subplots(1, 1, sharey = True)\n",
        "  #axs.hist(ndvi, bins = n_bins)\n",
        "  #axs[1].hist(gcvi, bins = n_bins)\n",
        "\n",
        "\n",
        "IndexHisto(unperturbed_chlora, perturbed_chlora_plus, perturbed_chlora_minus)\n",
        "\n"
      ],
      "execution_count": null,
      "outputs": [
        {
          "output_type": "stream",
          "text": [
            "{'type': 'Image', 'bands': [{'id': 'chlora', 'data_type': {'type': 'PixelType', 'precision': 'double'}, 'crs': 'EPSG:4326', 'crs_transform': [1, 0, 0, 0, 1, 0]}]}\n",
            "[[   0.         9075.43921569]\n",
            " [  14.58811282 2146.        ]\n",
            " [  29.17622564  411.        ]\n",
            " [  43.76433846   36.        ]\n",
            " [  58.35245127   90.        ]]\n",
            "{'type': 'Image', 'bands': [{'id': 'chlora', 'data_type': {'type': 'PixelType', 'precision': 'double'}, 'crs': 'EPSG:4326', 'crs_transform': [1, 0, 0, 0, 1, 0]}]}\n",
            "[[   0.         9172.43921569]\n",
            " [  14.58811282 2214.        ]\n",
            " [  29.17622564  246.        ]\n",
            " [  43.76433846   81.        ]\n",
            " [  58.35245127   45.        ]]\n",
            "{'type': 'Image', 'bands': [{'id': 'chlora', 'data_type': {'type': 'PixelType', 'precision': 'double'}, 'crs': 'EPSG:4326', 'crs_transform': [1, 0, 0, 0, 1, 0]}]}\n",
            "[[   0.         8965.43921569]\n",
            " [  14.58811282 2236.        ]\n",
            " [  29.17622564  431.        ]\n",
            " [  43.76433846    0.        ]\n",
            " [  58.35245127  126.        ]]\n"
          ],
          "name": "stdout"
        },
        {
          "output_type": "display_data",
          "data": {
            "image/png": "[encoded data removed]",
            "text/plain": [
              "<Figure size 432x288 with 2 Axes>"
            ]
          },
          "metadata": {
            "tags": [],
            "needs_background": "light"
          }
        }
      ]
    },
    {
      "cell_type": "markdown",
      "metadata": {
        "id": "zXPFVrRk18X3"
      },
      "source": [
        "###Histogram"
      ]
    },
    {
      "cell_type": "markdown",
      "metadata": {
        "id": "juaZ8F1M2Anh"
      },
      "source": [
        "##Decisionmaking "
      ]
    }
  ]
}